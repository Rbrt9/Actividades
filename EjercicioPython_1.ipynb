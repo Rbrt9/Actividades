{
  "nbformat": 4,
  "nbformat_minor": 0,
  "metadata": {
    "colab": {
      "provenance": [],
      "authorship_tag": "ABX9TyPp71IzlXxji3uYH6l4ABPy",
      "include_colab_link": true
    },
    "kernelspec": {
      "name": "python3",
      "display_name": "Python 3"
    },
    "language_info": {
      "name": "python"
    }
  },
  "cells": [
    {
      "cell_type": "markdown",
      "metadata": {
        "id": "view-in-github",
        "colab_type": "text"
      },
      "source": [
        "<a href=\"https://colab.research.google.com/github/Rbrt9/Actividades/blob/main/EjercicioPython_1.ipynb\" target=\"_parent\"><img src=\"https://colab.research.google.com/assets/colab-badge.svg\" alt=\"Open In Colab\"/></a>"
      ]
    },
    {
      "cell_type": "code",
      "execution_count": null,
      "metadata": {
        "id": "MEYwNBc3i9ZL"
      },
      "outputs": [],
      "source": [
        "# A1: Ejercicios en Python.  Alumno: Roberto González Villarreal #1956324.  Hora clase: N4"
      ]
    },
    {
      "cell_type": "code",
      "source": [
        "# Desarrolla un algoritmo que solicite al usuario dos números y muestre la suma de ambos.\n",
        "\n",
        "numero_1 = float(input(\"Ingresa el primer número: \"))\n",
        "numero_2 = float(input(\"Ingresa el segundo número: \"))\n",
        "\n",
        "suma = numero_1 + numero_2\n",
        "\n",
        "print(\"La suma de\", numero_1, \"y\", numero_2, \"es:\", suma)\n"
      ],
      "metadata": {
        "colab": {
          "base_uri": "https://localhost:8080/"
        },
        "id": "ynIlaiS9jV32",
        "outputId": "ac447b7e-8757-4504-f602-24caa35e812c"
      },
      "execution_count": 1,
      "outputs": [
        {
          "output_type": "stream",
          "name": "stdout",
          "text": [
            "Ingresa el primer número: 10\n",
            "Ingresa el segundo número: 20\n",
            "La suma de 10.0 y 20.0 es: 30.0\n"
          ]
        }
      ]
    },
    {
      "cell_type": "code",
      "source": [
        "#Desarrolla un algoritmo que calcule el factorial de un número ingresado por el usuario.\n",
        "\n",
        "numero = int(input(\"Ingresa un número entero: \"))\n",
        "\n",
        "# Verificar si el número es negativo\n",
        "if numero < 0:\n",
        "    print(\"El factorial no está definido para números negativos.\")\n",
        "else:\n",
        "    factorial = 1\n",
        "    for i in range(1, numero + 1):\n",
        "        factorial *= i\n",
        "    print(\"El factorial de\", numero, \"es:\", factorial)\n"
      ],
      "metadata": {
        "colab": {
          "base_uri": "https://localhost:8080/"
        },
        "id": "1WMNy1YMj42N",
        "outputId": "8dfb58d8-7e7d-4814-9245-cbf8ed3c8d35"
      },
      "execution_count": 2,
      "outputs": [
        {
          "output_type": "stream",
          "name": "stdout",
          "text": [
            "Ingresa un número entero: 4\n",
            "El factorial de 4 es: 24\n"
          ]
        }
      ]
    },
    {
      "cell_type": "code",
      "source": [
        "#Desarrolla un algoritmo que tome una lista de números y un número objetivo, y muestre la posición (índice) en la que se encuentra el número objetivo en la lista.\n",
        "\n",
        "numeros = input(\"Ingresa una lista de números separados por espacios: \").split()\n",
        "numeros = list(map(int, numeros))\n",
        "objetivo = int(input(\"Ingresa el número objetivo: \"))\n",
        "\n",
        "# Buscar el número objetivo en la lista\n",
        "indice = None\n",
        "for i in range(len(numeros)):\n",
        "    if numeros[i] == objetivo:\n",
        "        indice = i\n",
        "        break\n",
        "\n",
        "# Mostrar el resultado\n",
        "if indice is not None:\n",
        "    print(\"El número objetivo\", objetivo, \"se encuentra en la posición\", indice)\n",
        "else:\n",
        "    print(\"El número objetivo\", objetivo, \"no se encuentra en la lista.\")\n"
      ],
      "metadata": {
        "colab": {
          "base_uri": "https://localhost:8080/"
        },
        "id": "cnImQwv7kZaa",
        "outputId": "a9085b1c-822e-4728-cc67-1a1e3eeaa7fa"
      },
      "execution_count": 4,
      "outputs": [
        {
          "output_type": "stream",
          "name": "stdout",
          "text": [
            "Ingresa una lista de números separados por espacios: 1 3 4 5 6 7\n",
            "Ingresa el número objetivo: 1\n",
            "El número objetivo 1 se encuentra en la posición 0\n"
          ]
        }
      ]
    },
    {
      "cell_type": "code",
      "source": [
        "#Desarrolla un algoritmo que tome una cadena de texto y determine si es un palíndromo (se lee igual de adelante hacia atrás y viceversa).\n",
        "\n",
        "texto = input(\"Ingresa una cadena de texto: \")\n",
        "\n",
        "# Eliminar los espacios en blanco y convertir a minúsculas\n",
        "texto = texto.replace(\" \", \"\").lower()\n",
        "\n",
        "# Verificar si es un palíndromo\n",
        "es_palindromo = texto == texto[::-1]\n",
        "\n",
        "# Mostrar el resultado\n",
        "if es_palindromo:\n",
        "    print(\"La cadena de texto es un palíndromo.\")\n",
        "else:\n",
        "    print(\"La cadena de texto no es un palíndromo.\")\n"
      ],
      "metadata": {
        "colab": {
          "base_uri": "https://localhost:8080/"
        },
        "id": "Uij0oMOZlAYd",
        "outputId": "1522558f-1888-4e21-ff2b-8fba180e8308"
      },
      "execution_count": 7,
      "outputs": [
        {
          "output_type": "stream",
          "name": "stdout",
          "text": [
            "Ingresa una cadena de texto: reconocer\n",
            "La cadena de texto es un palíndromo.\n"
          ]
        }
      ]
    }
  ]
}